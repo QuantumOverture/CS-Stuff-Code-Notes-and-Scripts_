{
 "cells": [
  {
   "cell_type": "markdown",
   "id": "955cc4b1",
   "metadata": {},
   "source": [
    "## Extra topics to be reviewed that are not part of book (2nd edition):\n",
    "  - Diffusion Learning\n",
    "  - ResNeXt, DenseNet, MobileNet, CSPNet, and EfficientNet (New vision models)\n",
    "  - ARMA model and its variants\n",
    "  - Vision transformers (ViTs)\n",
    "  - Data-efficient image transformers (DeiTs), Perceiver, and DINO (transformer-based visual models)\n",
    "  - Switch Transformers, DistilBERT, T5, and PaLM (with chain-of-thought prompting) (language models)\n",
    "  - CLIP, DALL·E, Flamingo, and GATO (large multimodal models)\n",
    "\n",
    "Mainly from:\n",
    " - https://github.com/ageron/handson-ml3/blob/main/CHANGES.md"
   ]
  },
  {
   "cell_type": "markdown",
   "id": "88738645",
   "metadata": {},
   "source": [
    "## Chapter 1 + Preface"
   ]
  },
  {
   "cell_type": "markdown",
   "id": "e0bef7cf",
   "metadata": {},
   "source": [
    " - Deep Neural Network: A stack of layers of aritfical neurons.\n",
    " \n",
    " - Keras (high-level deep learning library) can be run on top of either TensorFlow(also has its own implementaion of Keras), Theano (optimized math library that is well-geared for matrix math), and Microsoft Cognitive Toolkit (a deprecated/abandoned deep learning library).\n",
    "\n",
    "- Most problems can be solved with simpler technqiues like Random Forests and Ensemble methods. Meaning deep learning/(neural networks) are more suited for complex problems NLP, image recognition and speech recognition. Though, it should be noted that more data and computational power will be required for deep learning.\n",
    "\n",
    "- Machine learning: science/art of programming computers so that they learn from data.\n",
    "\n",
    "- Examples used to improve the system(i.e that are used to learn something) is called \"training data\".\n",
    "\n",
    "- What learning really does is improve(i.e minimize or maximize) some metric associated with the task at hand(the reason you are teaching the computer/program). An example would be accuracy. In other words, the program/algorithm/computer needs to get better at some task after it learns from the given data to be considered an example of ML.\n",
    "\n",
    "- Another important aspect of machine learning is that you do not need to explicitly set all of the rules/parameters to perform a task. The ML algorithm will automatically learn these rules to perform the task better and better. This makes the actual program you write: smaller, readable, and more maintable (and possibly more accurate). The ML algorithm will also pick up on new rules(from patterns in the data) when the need/pattern arises (so you do not have to manually update things).\n",
    "\n",
    "- ML algorithms also are very useful in complex scenarios and in real-world environments that have noise and other things that make harcoding things difficult(e.g speech recognition).\n",
    "\n",
    "- ML algorithms can also give insight into patterns that are found in large datasets(that humans cannot process) (Data mining).\n",
    "\n",
    "- Non-exclusivive attributes used to differentiate ML algos/systems:\n",
    " - Degree of human supervision involved. (supervisied,unsupervisied, semi-supervisied, reinforcement learning)\n",
    " - Capability of learning with new data instances coming. (online vs batch learning)\n",
    " - Can they create a predicitive model or use comparison based approached on pre-exisiting data instances. (instance-based vs model based)\n",
    "\n",
    "- Supervised learning: training set comes with target solutions(labels). Example - classification and regression tasks.\n",
    "\n",
    "- Unsupervised learning: training set comes with**out** target solutions(labels). Example - clustering(a sub-example is hierarchiacal clustering: divide groups of similar data instances into smaller groups), anomaly(detect outliers and/or unprecedented behavior) & novelty(detect new instances that are different from training set instances) detection, data visualization & dimensionality reduction(simplify data with minimal loss in information i.e feature extraction), assocation rule learning(discovery of relations between attributes).\n",
    " - Difference between anomaly and novelty detection: huge dataset with a small percentage of type A.\n",
    "  - Anomaly detection may consider new instances of A as hits(i.e anomalies).\n",
    "  - Novelty detection should **not** consider new instances of A as hits (i.e novelties).\n",
    " - Also note: good to reduce dimensionality of your data before using an actual ML algo/system. Benefits entail: faster training times,less disk space & RAM, and might boost performance.\n",
    "\n",
    "\n",
    "\n"
   ]
  },
  {
   "cell_type": "code",
   "execution_count": null,
   "id": "b15a68b8",
   "metadata": {},
   "outputs": [],
   "source": []
  }
 ],
 "metadata": {
  "kernelspec": {
   "display_name": "Python 3 (ipykernel)",
   "language": "python",
   "name": "python3"
  },
  "language_info": {
   "codemirror_mode": {
    "name": "ipython",
    "version": 3
   },
   "file_extension": ".py",
   "mimetype": "text/x-python",
   "name": "python",
   "nbconvert_exporter": "python",
   "pygments_lexer": "ipython3",
   "version": "3.8.10"
  }
 },
 "nbformat": 4,
 "nbformat_minor": 5
}
