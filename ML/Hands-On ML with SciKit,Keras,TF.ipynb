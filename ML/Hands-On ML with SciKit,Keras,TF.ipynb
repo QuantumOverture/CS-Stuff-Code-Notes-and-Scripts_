{
 "cells": [
  {
   "cell_type": "markdown",
   "id": "955cc4b1",
   "metadata": {},
   "source": [
    "## Extra topics to be reviewed:\n",
    "  - Diffusion Learning\n",
    "  - ResNeXt, DenseNet, MobileNet, CSPNet, and EfficientNet (New vision models)\n",
    "  - ARMA model and its variants\n",
    "  - Vision transformers (ViTs)\n",
    "  - Data-efficient image transformers (DeiTs), Perceiver, and DINO (transformer-based visual models)\n",
    "  - Switch Transformers, DistilBERT, T5, and PaLM (with chain-of-thought prompting) (language models)\n",
    "  - CLIP, DALL·E, Flamingo, and GATO (large multimodal models)\n",
    "\n",
    "Mainly from:\n",
    " - https://github.com/ageron/handson-ml3/blob/main/CHANGES.md"
   ]
  },
  {
   "cell_type": "markdown",
   "id": "88738645",
   "metadata": {},
   "source": [
    "## Chapter 1"
   ]
  },
  {
   "cell_type": "markdown",
   "id": "e0bef7cf",
   "metadata": {},
   "source": [
    " - Deep Neural Network: A stack of layers of aritfical neurons.\n",
    " - Keras (high-level deep learning library) can be run on top of either TensorFlow(also has its own implementaion of Keras), Theano (optimized math library that is well-geared for matrix math), and Microsoft Cognitive Toolkit (a deprecated/abandoned deep learning library). \n",
    " - Most problems can be solved with simpler technqiues like Random Forests and Ensemble methods. Meaning deep learning/(neural networks) are more suited for complex problems NLP, image recognition and speech recognition. Though, it should be noted that more data and computational power will be required for deep learning.\n",
    " "
   ]
  },
  {
   "cell_type": "code",
   "execution_count": null,
   "id": "b15a68b8",
   "metadata": {},
   "outputs": [],
   "source": []
  }
 ],
 "metadata": {
  "kernelspec": {
   "display_name": "Python 3 (ipykernel)",
   "language": "python",
   "name": "python3"
  },
  "language_info": {
   "codemirror_mode": {
    "name": "ipython",
    "version": 3
   },
   "file_extension": ".py",
   "mimetype": "text/x-python",
   "name": "python",
   "nbconvert_exporter": "python",
   "pygments_lexer": "ipython3",
   "version": "3.8.10"
  }
 },
 "nbformat": 4,
 "nbformat_minor": 5
}
