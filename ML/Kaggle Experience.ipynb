{
 "cells": [
  {
   "cell_type": "markdown",
   "id": "79f5d144",
   "metadata": {},
   "source": [
    "General Tips:\n",
    "- Good pipeline to tackle problems( Exploratory data analysis -> Train, hyperparameter tuning and creating ensembles(combine multiple models)) [From: https://www.youtube.com/watch?v=8yZMXCaFshs]\n",
    "    - Improve scores(e.g accuracy): try different models/algos, try different data pre-processing technqiues, feature engineering(design/create new features), learn from others and your data [From: https://www.youtube.com/watch?v=8yZMXCaFshs]"
   ]
  },
  {
   "cell_type": "markdown",
   "id": "2aeb63bb",
   "metadata": {},
   "source": [
    "Current Tasks:\n",
    " - https://www.kaggle.com/competitions/titanic"
   ]
  },
  {
   "cell_type": "markdown",
   "id": "1bfa003d",
   "metadata": {},
   "source": [
    "Current articles/journals/tutorials/items that need to be reviewed:\n",
    " - https://www.kaggle.com/code/alexisbcook/titanic-tutorial/notebook"
   ]
  },
  {
   "cell_type": "code",
   "execution_count": null,
   "id": "572f9be1",
   "metadata": {},
   "outputs": [],
   "source": []
  }
 ],
 "metadata": {
  "kernelspec": {
   "display_name": "Python 3 (ipykernel)",
   "language": "python",
   "name": "python3"
  },
  "language_info": {
   "codemirror_mode": {
    "name": "ipython",
    "version": 3
   },
   "file_extension": ".py",
   "mimetype": "text/x-python",
   "name": "python",
   "nbconvert_exporter": "python",
   "pygments_lexer": "ipython3",
   "version": "3.8.10"
  }
 },
 "nbformat": 4,
 "nbformat_minor": 5
}
